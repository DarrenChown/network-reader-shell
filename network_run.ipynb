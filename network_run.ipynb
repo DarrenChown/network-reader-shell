{
 "cells": [
  {
   "cell_type": "code",
   "execution_count": null,
   "metadata": {},
   "outputs": [],
   "source": [
    "import net_writer as nw\n",
    "import threading as th\n",
    "import webbrowser as wb\n",
    "\n",
    "\n",
    "'''     Run net_writer.py to start the Localhost and Open the Webpage\n",
    "__________________________________________________________________________'''\n",
    "'''     Restart Kernal when adding more networks        '''\n",
    "\n",
    "# Start the Dash app in a separate thread\n",
    "dash_thread = th.Thread(target=nw.run_dash)\n",
    "dash_thread.start()\n",
    "\n",
    "# Open the web browser to the Dash app\n",
    "wb.open(\"http://127.0.0.1:5000/\")"
   ]
  }
 ],
 "metadata": {
  "kernelspec": {
   "display_name": "base",
   "language": "python",
   "name": "python3"
  },
  "language_info": {
   "codemirror_mode": {
    "name": "ipython",
    "version": 3
   },
   "file_extension": ".py",
   "mimetype": "text/x-python",
   "name": "python",
   "nbconvert_exporter": "python",
   "pygments_lexer": "ipython3",
   "version": "3.10.13"
  }
 },
 "nbformat": 4,
 "nbformat_minor": 2
}
